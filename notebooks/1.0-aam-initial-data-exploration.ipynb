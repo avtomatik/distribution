{
 "cells": [
  {
   "cell_type": "markdown",
   "id": "2252a6bc",
   "metadata": {},
   "source": [
    "# =============================================================================\n",
    "# https://ods.ai/competitions/data-fusion2025-distribution\n",
    "# ============================================================================="
   ]
  },
  {
   "cell_type": "code",
   "execution_count": null,
   "id": "f05f2920",
   "metadata": {},
   "outputs": [],
   "source": [
    "https://storage.yandexcloud.net/vtb-competition-25-private/Task3/train_target.csv\n",
    "https://storage.yandexcloud.net/vtb-competition-25-private/Task3/sample_submit_naive.csv\n",
    "https://storage.yandexcloud.net/vtb-competition-25-private/Task3/submit_baseline_catboost.csv\n",
    "\n",
    "https://storage.yandexcloud.net/vtb-competition-25-private/Task3/train_main.parquet\n",
    "https://storage.yandexcloud.net/vtb-competition-25-private/Task3/train_card_spending.parquet\n",
    "https://storage.yandexcloud.net/vtb-competition-25-private/Task3/train_mcc_operations.parquet\n",
    "https://storage.yandexcloud.net/vtb-competition-25-private/Task3/train_mcc_preferences.parquet\n",
    "\n",
    "https://storage.yandexcloud.net/vtb-competition-25-private/Task3/test_main.parquet\n"
   ]
  }
 ],
 "metadata": {
  "kernelspec": {
   "display_name": "Python 3 (ipykernel)",
   "language": "python",
   "name": "python3"
  },
  "language_info": {
   "codemirror_mode": {
    "name": "ipython",
    "version": 3
   },
   "file_extension": ".py",
   "mimetype": "text/x-python",
   "name": "python",
   "nbconvert_exporter": "python",
   "pygments_lexer": "ipython3",
   "version": "3.11.4"
  }
 },
 "nbformat": 4,
 "nbformat_minor": 5
}
